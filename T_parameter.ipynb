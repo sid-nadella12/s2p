{
 "cells": [
  {
   "cell_type": "code",
   "execution_count": 190,
   "metadata": {},
   "outputs": [],
   "source": [
    "import pandas as pd\n",
    "import numpy as np\n",
    "import os\n",
    "import cmath \n",
    "import skrf as rf\n",
    "import matplotlib.pyplot as plt\n",
    "from tkinter import *\n",
    "from tkinter import ttk\n",
    "from numpy.linalg import multi_dot"
   ]
  },
  {
   "cell_type": "code",
   "execution_count": 191,
   "metadata": {},
   "outputs": [],
   "source": [
    "def parse_s2p(file):\n",
    "    data_s2p = pd.read_table(file, sep=\" \", header=None,  names=[\"Frequency \", \"S11 real\", \"S11 imaginary\", \"S12 real\", \"S12 imaginary\",  \"S21 real\", \"S21 imaginary\",  \"S22 real\", \"S22 imaginary\" ])\n",
    "    data_s2p.drop(data_s2p.head(3).index,inplace=True)\n",
    "    return data_s2p"
   ]
  },
  {
   "cell_type": "code",
   "execution_count": 192,
   "metadata": {},
   "outputs": [],
   "source": [
    "def to_mag_phase(s2p_dataframe):\n",
    "    s2p_dataframe_array = (np.asarray(s2p_dataframe)).astype('float32')\n",
    "#     s2p_dataframe_array\n",
    "    magS11 = []  \n",
    "    angS11 = [] \n",
    "    magS21 = []  \n",
    "    angS21 = []  \n",
    "    magS12 = [] \n",
    "    angS12 = [] \n",
    "    magS22 = [] \n",
    "    angS22 = []\n",
    "    \n",
    "    for i in range(len(s2p_dataframe_array)): \n",
    "        magS11.append(rf.mathFunctions.complex_2_magnitude(complex(s2p_dataframe_array[i][1], s2p_dataframe_array[i][2])))\n",
    "        angS11.append(rf.mathFunctions.complex_2_degree(complex(s2p_dataframe_array[i][1], s2p_dataframe_array[i][2])))\n",
    "        magS12.append(rf.mathFunctions.complex_2_magnitude(complex(s2p_dataframe_array[i][3], s2p_dataframe_array[i][4])))\n",
    "        angS12.append(rf.mathFunctions.complex_2_degree(complex(s2p_dataframe_array[i][3], s2p_dataframe_array[i][4])))\n",
    "        magS21.append(rf.mathFunctions.complex_2_magnitude(complex(s2p_dataframe_array[i][5], s2p_dataframe_array[i][6])))\n",
    "        angS21.append(rf.mathFunctions.complex_2_degree(complex(s2p_dataframe_array[i][5], s2p_dataframe_array[i][6])))\n",
    "        magS22.append(rf.mathFunctions.complex_2_magnitude(complex(s2p_dataframe_array[i][7], s2p_dataframe_array[i][8])))\n",
    "        angS22.append(rf.mathFunctions.complex_2_degree(complex(s2p_dataframe_array[i][7], s2p_dataframe_array[i][8])))\n",
    "        \n",
    "    freq = s2p_dataframe_array[:, 0]\n",
    "    new_file = []\n",
    "    \n",
    "    with open(s2p_file) as f:\n",
    "        f = f.readlines()\n",
    "        new_file.append(f[0])\n",
    "        new_file.append(f[1])\n",
    "        new_file.append(f[2])\n",
    "        for i in range(len(s2p_dataframe_array)):\n",
    "            new_file.append(str('{:.2e}'.format(freq[i])) + ' ' + str('{:.2e}'.format(magS11[i])) + ' ' + str('{:.2e}'.format(angS11[i])) + \n",
    "                                           ' ' + str('{:.2e}'.format(magS12[i])) + ' ' + str('{:.2e}'.format(angS12[i])) +\n",
    "                                           ' ' + str('{:.2e}'.format(magS21[i])) + ' ' + str('{:.2e}'.format(angS21[i])) +\n",
    "                                           ' ' + str('{:.2e}'.format(magS22[i])) + ' ' + str('{:.2e}'.format(angS22[i]))\n",
    "                           )\n",
    "    with open('C:/Users/Dell/Desktop/EE work/s2p/SEI_VGQ0VDQ000_T25_s2p/AA1_updated.s2p', 'w') as of:\n",
    "        of.write('\\n'.join(new_file))"
   ]
  },
  {
   "cell_type": "code",
   "execution_count": 187,
   "metadata": {},
   "outputs": [],
   "source": [
    "s2p_file = 'C:/Users/Dell/Desktop/EE work/s2p/SEI_VGQ0VDQ000_T25_s2p/AA1.s2p'\n",
    "dir_name = os.path.dirname(s2p_file)\n",
    "s2p_dataframe = parse_s2p(s2p_file)\n",
    "to_mag_phase(s2p_dataframe)\n",
    "# s2p_dataframe"
   ]
  },
  {
   "cell_type": "code",
   "execution_count": 193,
   "metadata": {},
   "outputs": [],
   "source": [
    "new_s2p_file = 'C:/Users/Dell/Desktop/EE work/s2p/SEI_VGQ0VDQ000_T25_s2p/AA1_updated.s2p'\n",
    "ntwk = rf.Network(new_file)\n",
    "s2p_file_t = ntwk.t\n",
    "# new_file_t"
   ]
  },
  {
   "cell_type": "code",
   "execution_count": 194,
   "metadata": {},
   "outputs": [],
   "source": [
    "manifold_in = 'Downloads/UnitCell_Manifold_in_wLauncher.s2p'\n",
    "manifold_ntwk_in = rf.Network(manifold_in)\n",
    "manifold_ntwk_in_t = manifold_ntwk_in.t\n",
    "# manifold_ntwk_in_t"
   ]
  },
  {
   "cell_type": "code",
   "execution_count": 195,
   "metadata": {},
   "outputs": [],
   "source": [
    "manifold_out = 'Downloads/UnitCell_Manifold_out_wLauncher.s2p'\n",
    "manifold_ntwk_out = rf.Network(manifold_out)\n",
    "manifold_ntwk_out_t = manifold_ntwk_out.t\n",
    "# manifold_ntwk_out_t"
   ]
  },
  {
   "cell_type": "code",
   "execution_count": 196,
   "metadata": {},
   "outputs": [],
   "source": [
    "def get_T(file):\n",
    "    T11 = []\n",
    "    T12 = []\n",
    "    T21 = []\n",
    "    T22 = []\n",
    "    for i in range(len(file)):\n",
    "        T11.append(file[i][0][0])\n",
    "        T12.append(file[i][0][1])\n",
    "        T21.append(file[i][1][0])\n",
    "        T22.append(file[i][1][1])\n",
    "    \n",
    "    return T11, T12, T21, T22"
   ]
  },
  {
   "cell_type": "code",
   "execution_count": 197,
   "metadata": {},
   "outputs": [],
   "source": [
    "s2p_T11, s2p_T12, s2p_T21, s2p_T22 = get_T(new_file_t)\n",
    "manifold_ntwk_in_T11, manifold_ntwk_in_T12, manifold_ntwk_in_T21, manifold_ntwk_in_T22 = get_T(manifold_ntwk_in_t)\n",
    "manifold_ntwk_out_T11, manifold_ntwk_out_T12, manifold_ntwk_out_T21, manifold_ntwk_out_T22 = get_T(manifold_ntwk_out_t)"
   ]
  },
  {
   "cell_type": "code",
   "execution_count": 198,
   "metadata": {},
   "outputs": [],
   "source": [
    "s2p = [s2p_T11, s2p_T12, s2p_T21, s2p_T22]\n",
    "manifold_in = [manifold_ntwk_in_T11, manifold_ntwk_in_T12, manifold_ntwk_in_T21, manifold_ntwk_in_T22]\n",
    "manifold_out = [manifold_ntwk_out_T11, manifold_ntwk_out_T12, manifold_ntwk_out_T21, manifold_ntwk_out_T22]\n"
   ]
  },
  {
   "cell_type": "code",
   "execution_count": 199,
   "metadata": {},
   "outputs": [],
   "source": [
    "def matrix(lists, i):\n",
    "    mat = np.zeros((2,2), dtype = \"complex\")\n",
    "    mat[0][0], mat[0][1] = lists[i][0][0], lists[i][0][1]\n",
    "    mat[1][0], mat[1][1] = lists[i][1][0], lists[i][1][1]    \n",
    "    return mat"
   ]
  },
  {
   "cell_type": "code",
   "execution_count": 200,
   "metadata": {},
   "outputs": [],
   "source": [
    "def inv_matrix(lists, i):\n",
    "    mat = matrix(lists, i)\n",
    "    return np.linalg.inv(mat)"
   ]
  },
  {
   "cell_type": "code",
   "execution_count": 201,
   "metadata": {},
   "outputs": [],
   "source": [
    "def mat_calculation(manifold_ntwk_in_t, s2p_file_t, manifold_ntwk_out_t):\n",
    "    \n",
    "    de_embedded_t = []\n",
    "    for i in range(len(s2p_file_t)):\n",
    "        manifold_in_matrix = inv_matrix(manifold_ntwk_in_t, i)\n",
    "        s2p_matrix = matrix(s2p_file_t, i)\n",
    "        manifold_out_matrix_ = inv_matrix(manifold_ntwk_out_t, i)\n",
    "        \n",
    "        result_mat = multi_dot([manifold_in_matrix, s2p_matrix, manifold_out_matrix])\n",
    "        \n",
    "        de_embedded_t.append(result_mat)\n",
    "\n",
    "    return de_embedded_t"
   ]
  },
  {
   "cell_type": "code",
   "execution_count": 202,
   "metadata": {},
   "outputs": [],
   "source": [
    "de_embedded_t = mat_calculation(manifold_ntwk_in_t, s2p_file_t, manifold_ntwk_out_t)"
   ]
  },
  {
   "cell_type": "code",
   "execution_count": 207,
   "metadata": {},
   "outputs": [
    {
     "data": {
      "text/plain": [
       "398"
      ]
     },
     "execution_count": 207,
     "metadata": {},
     "output_type": "execute_result"
    }
   ],
   "source": [
    "len(de_embedded_t)"
   ]
  },
  {
   "cell_type": "code",
   "execution_count": null,
   "metadata": {},
   "outputs": [],
   "source": []
  },
  {
   "cell_type": "code",
   "execution_count": null,
   "metadata": {},
   "outputs": [],
   "source": []
  },
  {
   "cell_type": "code",
   "execution_count": null,
   "metadata": {},
   "outputs": [],
   "source": []
  },
  {
   "cell_type": "code",
   "execution_count": null,
   "metadata": {},
   "outputs": [],
   "source": []
  },
  {
   "cell_type": "code",
   "execution_count": null,
   "metadata": {},
   "outputs": [],
   "source": []
  },
  {
   "cell_type": "code",
   "execution_count": null,
   "metadata": {},
   "outputs": [],
   "source": []
  },
  {
   "cell_type": "code",
   "execution_count": null,
   "metadata": {},
   "outputs": [],
   "source": []
  },
  {
   "cell_type": "code",
   "execution_count": null,
   "metadata": {},
   "outputs": [],
   "source": []
  },
  {
   "cell_type": "code",
   "execution_count": null,
   "metadata": {},
   "outputs": [],
   "source": []
  },
  {
   "cell_type": "code",
   "execution_count": 177,
   "metadata": {},
   "outputs": [
    {
     "data": {
      "text/plain": [
       "array([[ 6.19381092e-01+6.81985336e+01j, -2.25154758e-01-1.42061627e-02j],\n",
       "       [ 2.86692958e-01+1.43909929e-02j,  1.97564279e-05-1.39859861e-02j]])"
      ]
     },
     "execution_count": 177,
     "metadata": {},
     "output_type": "execute_result"
    }
   ],
   "source": [
    "# s2p_matrix_1 = matrix_1(new_file_t, 0)\n",
    "# s2p_matrix_1"
   ]
  },
  {
   "cell_type": "code",
   "execution_count": 179,
   "metadata": {},
   "outputs": [
    {
     "data": {
      "text/plain": [
       "array([[ 1.00137221+0.00227213j, -0.00139202+0.00047426j],\n",
       "       [ 0.00136661-0.00048154j,  0.99862286-0.00226457j]])"
      ]
     },
     "execution_count": 179,
     "metadata": {},
     "output_type": "execute_result"
    }
   ],
   "source": [
    "# manifold_in_matrix_1 = inv_matrix_1(manifold_ntwk_in_t, 0)\n",
    "# manifold_in_matrix_1"
   ]
  },
  {
   "cell_type": "code",
   "execution_count": 181,
   "metadata": {},
   "outputs": [
    {
     "data": {
      "text/plain": [
       "array([[ 1.00021949e+00+0.00235574j, -2.27148544e-04+0.00066711j],\n",
       "       [ 2.20968171e-04-0.00063597j,  9.99775388e-01-0.0023544j ]])"
      ]
     },
     "execution_count": 181,
     "metadata": {},
     "output_type": "execute_result"
    }
   ],
   "source": [
    "# manifold_out_matrix_1 = inv_matrix_1(manifold_ntwk_out_t, 0)\n",
    "# manifold_out_matrix_1"
   ]
  },
  {
   "cell_type": "code",
   "execution_count": 183,
   "metadata": {},
   "outputs": [
    {
     "data": {
      "text/plain": [
       "array([[ 0.30403011+6.83098646e+01j, -0.27107388-2.93863934e-02j],\n",
       "       [ 0.31982736+1.07398898e-01j, -0.0005029 -1.36846112e-02j]])"
      ]
     },
     "execution_count": 183,
     "metadata": {},
     "output_type": "execute_result"
    }
   ],
   "source": [
    "# from numpy.linalg import multi_dot\n",
    "# result_mat_1 = multi_dot([manifold_in_matrix_1, s2p_matrix_1, manifold_out_matrix_1])\n",
    "# result_mat_1"
   ]
  },
  {
   "cell_type": "code",
   "execution_count": null,
   "metadata": {},
   "outputs": [],
   "source": []
  }
 ],
 "metadata": {
  "kernelspec": {
   "display_name": "Python 3",
   "language": "python",
   "name": "python3"
  },
  "language_info": {
   "codemirror_mode": {
    "name": "ipython",
    "version": 3
   },
   "file_extension": ".py",
   "mimetype": "text/x-python",
   "name": "python",
   "nbconvert_exporter": "python",
   "pygments_lexer": "ipython3",
   "version": "3.7.6"
  }
 },
 "nbformat": 4,
 "nbformat_minor": 4
}
